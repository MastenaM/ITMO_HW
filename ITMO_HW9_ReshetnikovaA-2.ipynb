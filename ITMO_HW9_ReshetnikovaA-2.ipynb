{
  "nbformat": 4,
  "nbformat_minor": 0,
  "metadata": {
    "colab": {
      "provenance": []
    },
    "kernelspec": {
      "name": "python3",
      "display_name": "Python 3"
    },
    "language_info": {
      "name": "python"
    }
  },
  "cells": [
    {
      "cell_type": "code",
      "execution_count": null,
      "metadata": {
        "id": "IQr7-x0JgL9M"
      },
      "outputs": [],
      "source": [
        "import pandas as pd"
      ]
    },
    {
      "cell_type": "code",
      "source": [
        "from google.colab import drive\n",
        "drive.mount('/content/drive')"
      ],
      "metadata": {
        "id": "Rc6n54NIgXSr"
      },
      "execution_count": null,
      "outputs": []
    },
    {
      "cell_type": "code",
      "source": [
        "name_of_file='realty_data.csv'\n",
        "path = '/content/drive/My Drive/Colab Notebooks/'+ name_of_file"
      ],
      "metadata": {
        "id": "a_Mn9Y_Zgehh"
      },
      "execution_count": null,
      "outputs": []
    },
    {
      "cell_type": "code",
      "source": [
        "data = pd.read_csv(path)"
      ],
      "metadata": {
        "id": "EqermkH0g1-a"
      },
      "execution_count": null,
      "outputs": []
    },
    {
      "cell_type": "code",
      "source": [
        "data.head(10)"
      ],
      "metadata": {
        "id": "-_bY-g67g92N"
      },
      "execution_count": null,
      "outputs": []
    },
    {
      "cell_type": "code",
      "source": [
        "data.dtypes"
      ],
      "metadata": {
        "id": "1yW7MGI-jSLe"
      },
      "execution_count": null,
      "outputs": []
    },
    {
      "cell_type": "code",
      "source": [
        "!pip install pandas scikit-learn streamlit"
      ],
      "metadata": {
        "id": "ANB8pz6ahYOv"
      },
      "execution_count": null,
      "outputs": []
    },
    {
      "cell_type": "code",
      "source": [
        "from sklearn.model_selection import train_test_split\n",
        "from sklearn.linear_model import LinearRegression\n",
        "from sklearn.preprocessing import LabelEncoder\n",
        "import streamlit as st"
      ],
      "metadata": {
        "id": "1ru4LHG0hQ3x"
      },
      "execution_count": null,
      "outputs": []
    },
    {
      "cell_type": "code",
      "source": [
        "data.dropna(subset=['price', 'total_square', 'rooms'], inplace=True)"
      ],
      "metadata": {
        "id": "spDy0o1cj9iE"
      },
      "execution_count": null,
      "outputs": []
    },
    {
      "cell_type": "code",
      "source": [
        "X = data[['total_square', 'rooms']]\n",
        "y = data['price']"
      ],
      "metadata": {
        "id": "MYbq67PrkxDZ"
      },
      "execution_count": null,
      "outputs": []
    },
    {
      "cell_type": "code",
      "source": [
        "X_train, X_test, y_train, y_test = train_test_split(X, y, test_size=0.2, random_state=42)\n"
      ],
      "metadata": {
        "id": "6GvvyF33kyFc"
      },
      "execution_count": null,
      "outputs": []
    },
    {
      "cell_type": "code",
      "source": [
        "model = LinearRegression()\n",
        "model.fit(X_train, y_train)"
      ],
      "metadata": {
        "id": "uLiq4JCBk0nD"
      },
      "execution_count": null,
      "outputs": []
    },
    {
      "cell_type": "code",
      "source": [
        "def predict_price(total_square, rooms):\n",
        "    return model.predict([[total_square, rooms]])[0]"
      ],
      "metadata": {
        "id": "qn8TA5WSk4hv"
      },
      "execution_count": null,
      "outputs": []
    },
    {
      "cell_type": "code",
      "source": [
        "st.title(\"Прогнозирование стоимости недвижимости\")\n",
        "total_square = st.number_input(\"Общая площадь (м²)\", min_value=1, value=50)\n",
        "rooms = st.number_input(\"Количество комнат\", min_value=1, max_value=10, value=2)\n",
        "if st.button(\"Предсказать стоимость\"):\n",
        "    estimated_price = predict_price(total_square, rooms)\n",
        "    st.success(f\"Оценочная стоимость недвижимости: {estimated_price:,.2f} руб.\")\n",
        "\n"
      ],
      "metadata": {
        "id": "_PE8LH_ok-oB"
      },
      "execution_count": null,
      "outputs": []
    },
    {
      "cell_type": "code",
      "source": [
        "!npm install localtunnel"
      ],
      "metadata": {
        "id": "QqHVUMBw6YZw"
      },
      "execution_count": null,
      "outputs": []
    },
    {
      "cell_type": "code",
      "source": [
        "!streamlit run app.py &>/content/logs.txt &"
      ],
      "metadata": {
        "id": "_25Cxm426w8-"
      },
      "execution_count": null,
      "outputs": []
    },
    {
      "cell_type": "code",
      "source": [
        "import urllib\n",
        "print(\"Password/Enpoint IP for localtunnel is:\",urllib.request.urlopen('https://ipv4.icanhazip.com').read().decode('utf8').strip(\"\\n\"))"
      ],
      "metadata": {
        "id": "sP5QflDr8IPp"
      },
      "execution_count": null,
      "outputs": []
    },
    {
      "cell_type": "code",
      "source": [
        "!npx localtunnel --port 8501 & curl ipv4.icanhazip.com"
      ],
      "metadata": {
        "colab": {
          "base_uri": "https://localhost:8080/"
        },
        "id": "Cgk0-3uv6zQJ",
        "outputId": "d34168c3-92a2-4112-9b86-8a14e182a185"
      },
      "execution_count": null,
      "outputs": [
        {
          "output_type": "stream",
          "name": "stdout",
          "text": [
            "34.72.84.89\n",
            "your url is: https://tough-hornets-crash.loca.lt\n"
          ]
        }
      ]
    },
    {
      "cell_type": "code",
      "source": [
        "#streamlit run app.py"
      ],
      "metadata": {
        "id": "2RjBjzgBlMfs"
      },
      "execution_count": null,
      "outputs": []
    }
  ]
}